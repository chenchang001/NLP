{
 "cells": [
  {
   "cell_type": "markdown",
   "metadata": {},
   "source": [
    "This is using XLNet to do sentimental analysis\n",
    "\n",
    "Input file has format:\n",
    "Label \\t id \\t text"
   ]
  },
  {
   "cell_type": "code",
   "execution_count": 2,
   "metadata": {
    "scrolled": true
   },
   "outputs": [
    {
     "name": "stdout",
     "output_type": "stream",
     "text": [
      " 驱动器 C 中的卷是 System\n",
      " 卷的序列号是 107E-ADFF\n",
      "\n",
      " c:\\Project\\xlnet\\xlnet-master\\XLNET-cased_L-12_H-768_A-12 的目录\n",
      "\n",
      "2019/08/04  18:35    <DIR>          .\n",
      "2019/08/04  18:35    <DIR>          ..\n",
      "2019/07/16  10:29           798,011 spiece.model\n",
      "2019/07/16  10:29               178 xlnet_config.json\n",
      "2019/07/16  10:57       467,001,352 xlnet_model.ckpt.data-00000-of-00001\n",
      "2019/07/16  10:57             6,992 xlnet_model.ckpt.index\n",
      "2019/07/16  10:57           658,178 xlnet_model.ckpt.meta\n",
      "               5 个文件    468,464,711 字节\n",
      "               2 个目录  8,969,924,608 可用字节\n",
      " 驱动器 C 中的卷是 System\n",
      " 卷的序列号是 107E-ADFF\n",
      "\n",
      " c:\\Project\\xlnet\\xlnet-master\\data 的目录\n",
      "\n",
      "2019/08/04  18:13    <DIR>          .\n",
      "2019/08/04  18:13    <DIR>          ..\n",
      "2019/02/06  21:14            70,110 dev_3.tsv\n",
      "2019/08/04  21:07           998,406 spiece.model.len-256.dev.eval.tf_record\n",
      "2019/08/04  20:45        19,490,171 spiece.model.len-256.train.tf_record\n",
      "2019/02/06  21:35         1,346,529 train_3.tsv\n",
      "               4 个文件     21,905,216 字节\n",
      "               2 个目录  8,969,924,608 可用字节\n"
     ]
    }
   ],
   "source": [
    "DATA_DIR = 'data'\n",
    "MODEL_DIR = 'model'\n",
    "BASE_DIR = 'XLNET-cased_L-12_H-768_A-12'\n",
    "! dir $BASE_DIR\n",
    "! dir $DATA_DIR"
   ]
  },
  {
   "cell_type": "code",
   "execution_count": null,
   "metadata": {},
   "outputs": [],
   "source": [
    "! python run_classifier_s1.py \\\n",
    "    --use_tpu=False \\\n",
    "    --do_train=True \\\n",
    "    --do_eval=True \\\n",
    "    --eval_all_ckpt=True \\\n",
    "    --overwrite_data=True \\\n",
    "    --task_name=senti \\\n",
    "    --data_dir=$DATA_DIR \\\n",
    "    --output_dir=$DATA_DIR \\\n",
    "    --model_dir=$MODEL_DIR \\\n",
    "    --uncased=False \\\n",
    "    --spiece_model_file=$BASE_DIR/spiece.model \\\n",
    "    --model_config_path=$BASE_DIR/model_config.json \\\n",
    "    --init_checkpoint=$BASE_DIR/xlnet_model.ckpt \\\n",
    "    --max_seq_length=256 \\\n",
    "    --train_batch_size=8 \\\n",
    "    --eval_batch_size=4 \\\n",
    "    --num_hosts=1 \\\n",
    "    --num_core_per_host=1 \\\n",
    "    --learning_rate=2e-5 \\\n",
    "    --train_steps=2000 \\\n",
    "    --warmup_steps=500 \\\n",
    "    --save_steps=500 \\\n",
    "    --iterations=500"
   ]
  },
  {
   "cell_type": "raw",
   "metadata": {},
   "source": [
    "Training output:\n",
    "I0804 20:46:16.287931  8500 session_manager.py:500] Running local_init_op.\n",
    "I0804 20:46:16.459762  8500 session_manager.py:502] Done running local_init_op.\n",
    "I0804 20:46:21.806306  8500 basic_session_run_hooks.py:606] Saving checkpoints for 0 into model\\model.ckpt.             I0804 20:46:25.142298  8500 checkpoint_management.py:95] model\\model.ckpt-0 is not in all_model_checkpoint_paths. Manually adding it.\n",
    "I0804 20:46:32.404865  8500 basic_session_run_hooks.py:262] loss = 1.3837638, step = 0\n",
    "I0804 20:47:37.848990  8500 basic_session_run_hooks.py:692] global_step/sec: 1.52802\n",
    "I0804 20:47:37.848990  8500 basic_session_run_hooks.py:260] loss = 1.2593092, step = 100 (65.444 sec)\n",
    "I0804 20:48:38.319667  8500 basic_session_run_hooks.py:692] global_step/sec: 1.65369                                    I0804 20:48:38.319667  8500 basic_session_run_hooks.py:260] loss = 0.93565154, step = 200 (60.471 sec)\n",
    "I0804 20:49:39.907449  8500 basic_session_run_hooks.py:692] global_step/sec: 1.6237\n",
    "I0804 20:49:39.907449  8500 basic_session_run_hooks.py:260] loss = 0.46746528, step = 300 (61.588 sec)\n",
    "I0804 20:50:41.312224  8500 basic_session_run_hooks.py:692] global_step/sec: 1.62854                                    I0804 20:50:41.312224  8500 basic_session_run_hooks.py:260] loss = 0.23985733, step = 400 (61.405 sec)\n",
    "I0804 20:51:41.701120  8500 basic_session_run_hooks.py:606] Saving checkpoints for 500 into model\\model.ckpt.           I0804 20:51:44.395627  8500 checkpoint_management.py:95] model\\model.ckpt-500 is not in all_model_checkpoint_paths. Manually adding it.                                                                                                         I0804 20:51:45.836181  8500 basic_session_run_hooks.py:692] global_step/sec: 1.54981\n",
    "I0804 20:51:45.836181  8500 basic_session_run_hooks.py:260] loss = 0.27571422, step = 500 (64.524 sec)                  I0804 20:52:46.901762  8500 basic_session_run_hooks.py:692] global_step/sec: 1.63758\n",
    "I0804 20:52:46.917385  8500 basic_session_run_hooks.py:260] loss = 0.45288083, step = 600 (61.081 sec)                  I0804 20:53:48.010990  8500 basic_session_run_hooks.py:692] global_step/sec: 1.63641\n",
    "I0804 20:53:48.010990  8500 basic_session_run_hooks.py:260] loss = 0.76691186, step = 700 (61.094 sec)                  I0804 20:54:49.083478  8500 basic_session_run_hooks.py:692] global_step/sec: 1.6374\n",
    "I0804 20:54:49.099101  8500 basic_session_run_hooks.py:260] loss = 0.19724613, step = 800 (61.088 sec)                  I0804 20:55:50.279495  8500 basic_session_run_hooks.py:692] global_step/sec: 1.63409\n",
    "I0804 20:55:50.279495  8500 basic_session_run_hooks.py:260] loss = 0.25097045, step = 900 (61.180 sec)                  I0804 20:56:50.917301  8500 basic_session_run_hooks.py:606] Saving checkpoints for 1000 into model\\model.ckpt.\n",
    "I0804 20:56:53.690126  8500 checkpoint_management.py:95] model\\model.ckpt-1000 is not in all_model_checkpoint_paths. Manually adding it.\n",
    "I0804 20:56:55.130685  8500 basic_session_run_hooks.py:692] global_step/sec: 1.54199                                    I0804 20:56:55.130685  8500 basic_session_run_hooks.py:260] loss = 1.3544424, step = 1000 (64.851 sec)\n",
    "I0804 20:57:56.336999  8500 basic_session_run_hooks.py:692] global_step/sec: 1.63382\n",
    "I0804 20:57:56.336999  8500 basic_session_run_hooks.py:260] loss = 0.08076746, step = 1100 (61.206 sec)\n",
    "I0804 20:58:57.597511  8500 basic_session_run_hooks.py:692] global_step/sec: 1.63237\n",
    "I0804 20:58:57.613131  8500 basic_session_run_hooks.py:260] loss = 0.75047356, step = 1200 (61.276 sec)\n",
    "I0804 20:59:58.857438  8500 basic_session_run_hooks.py:692] global_step/sec: 1.63239\n",
    "I0804 20:59:58.857438  8500 basic_session_run_hooks.py:260] loss = 0.11521135, step = 1300 (61.244 sec)\n",
    "I0804 21:00:59.927133  8500 basic_session_run_hooks.py:692] global_step/sec: 1.63747\n",
    "I0804 21:00:59.927133  8500 basic_session_run_hooks.py:260] loss = 0.15561515, step = 1400 (61.070 sec)\n",
    "I0804 21:02:02.860595  8500 basic_session_run_hooks.py:606] Saving checkpoints for 1500 into model\\model.ckpt.\n",
    "I0804 21:02:05.555099  8500 checkpoint_management.py:95] model\\model.ckpt-1500 is not in all_model_checkpoint_paths. Manually adding it.\n",
    "I0804 21:02:06.964357  8500 basic_session_run_hooks.py:692] global_step/sec: 1.49171\n",
    "I0804 21:02:06.964357  8500 basic_session_run_hooks.py:260] loss = 0.21482003, step = 1500 (67.037 sec)\n",
    "I0804 21:03:07.432771  8500 basic_session_run_hooks.py:692] global_step/sec: 1.65376\n",
    "I0804 21:03:07.432771  8500 basic_session_run_hooks.py:260] loss = 0.039104667, step = 1600 (60.468 sec)\n",
    "I0804 21:04:08.097998  8500 basic_session_run_hooks.py:692] global_step/sec: 1.64839\n",
    "I0804 21:04:08.097998  8500 basic_session_run_hooks.py:260] loss = 1.1317177, step = 1700 (60.665 sec)\n",
    "I0804 21:05:08.802767  8500 basic_session_run_hooks.py:692] global_step/sec: 1.64732\n",
    "I0804 21:05:08.818360  8500 basic_session_run_hooks.py:260] loss = 0.62659633, step = 1800 (60.720 sec)\n",
    "I0804 21:06:09.528607  8500 basic_session_run_hooks.py:692] global_step/sec: 1.64675\n",
    "I0804 21:06:09.528607  8500 basic_session_run_hooks.py:260] loss = 0.07071963, step = 1900 (60.710 sec)\n",
    "I0804 21:07:10.184827  8500 basic_session_run_hooks.py:606] Saving checkpoints for 2000 into model\\model.ckpt.\n",
    "I0804 21:07:16.335401  8500 checkpoint_management.py:95] model\\model.ckpt-2000 is not in all_model_checkpoint_paths. Manually adding it.\n",
    "I0804 21:07:17.259370  8500 estimator.py:368] Loss for final step: 0.36312214.\n",
    "\n",
    "\n",
    "Evaluation output:\n",
    "I0804 21:07:40.664109  8500 run_classifier_s1.py:817] ================================================================================\n",
    "I0804 21:07:40.664109  8500 run_classifier_s1.py:821] Eval result | eval_accuracy 0.12224108725786209 | eval_loss 1.5356017351150513 | global_step 0 | loss 1.5390671491622925 | path model\\model.ckpt-0 | step 0 |\n",
    "I0804 21:08:03.326958  8500 run_classifier_s1.py:817] ================================================================================\n",
    "I0804 21:08:03.326958  8500 run_classifier_s1.py:821] Eval result | eval_accuracy 0.784380316734314 | eval_loss 0.5230043530464172 | global_step 500 | loss 0.5285371541976929 | path model\\model.ckpt-500 | step 500 |\n",
    "I0804 21:08:25.829535  8500 run_classifier_s1.py:817] ================================================================================\n",
    "I0804 21:08:25.829535  8500 run_classifier_s1.py:821] Eval result | eval_accuracy 0.8183361887931824 | eval_loss 0.5982733368873596 | global_step 1000 | loss 0.5956732034683228 | path model\\model.ckpt-1000 | step 1000 |\n",
    "I0804 21:08:48.374394  8500 run_classifier_s1.py:817] ================================================================================\n",
    "I0804 21:08:48.374394  8500 run_classifier_s1.py:821] Eval result | eval_accuracy 0.88285231590271 | eval_loss 0.38044628500938416 | global_step 1500 | loss 0.38277095556259155 | path model\\model.ckpt-1500 | step 1500 |\n",
    "I0804 21:09:10.980084  8500 run_classifier_s1.py:817] ================================================================================\n",
    "I0804 21:09:10.980084  8500 run_classifier_s1.py:821] Eval result | eval_accuracy 0.8590831756591797 | eval_loss 0.5074911117553711 | global_step 2000 | loss 0.5073302984237671 | path model\\model.ckpt-2000 | step 2000 |\n",
    "I0804 21:09:10.980084  8500 run_classifier_s1.py:826] ================================================================================\n",
    "I0804 21:09:10.980084  8500 run_classifier_s1.py:830] Best result | eval_accuracy 0.88285231590271 | eval_loss 0.38044628500938416 | global_step 1500 | loss 0.38277095556259155 | path model\\model.ckpt-1500 | step 1500 |\n"
   ]
  },
  {
   "cell_type": "raw",
   "metadata": {},
   "source": [
    "Compare with BERT (on the same train/dev dataset)\n",
    "\n",
    "BERT's evaluation result:\n",
    "INFO:tensorflow:Saving dict for global step 3611: eval_accuracy = 0.87096775, eval_loss = 0.8495339, global_step = 3611, loss = 0.94699067\n",
    "INFO:tensorflow:Saving 'checkpoint_path' summary for global step 3611: gs://ccprojectbert/bert/models/SENTI/model.ckpt-3611\n",
    "INFO:tensorflow:evaluation_loop marked as finished\n",
    "INFO:tensorflow:***** Eval results *****\n",
    "INFO:tensorflow:  eval_accuracy = 0.87096775\n",
    "INFO:tensorflow:  eval_loss = 0.8495339\n",
    "INFO:tensorflow:  global_step = 3611\n",
    "INFO:tensorflow:  loss = 0.94699067\n",
    "\n",
    "XLNet's accuracy 0.88285231590271 is slightly better than BERT's 0.87096775"
   ]
  }
 ],
 "metadata": {
  "kernelspec": {
   "display_name": "Python 3",
   "language": "python",
   "name": "python3"
  },
  "language_info": {
   "codemirror_mode": {
    "name": "ipython",
    "version": 3
   },
   "file_extension": ".py",
   "mimetype": "text/x-python",
   "name": "python",
   "nbconvert_exporter": "python",
   "pygments_lexer": "ipython3",
   "version": "3.6.5"
  }
 },
 "nbformat": 4,
 "nbformat_minor": 2
}
